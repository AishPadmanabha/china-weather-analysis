{
 "cells": [
  {
   "cell_type": "markdown",
   "metadata": {},
   "source": [
    "#### Importing dependencies"
   ]
  },
  {
   "cell_type": "code",
   "execution_count": 1,
   "metadata": {},
   "outputs": [],
   "source": [
    "import pandas as pd\n",
    "import numpy as np\n",
    "pd.set_option('display.max_rows', 200)\n",
    "pd.set_option('display.max_columns', 100)"
   ]
  },
  {
   "cell_type": "markdown",
   "metadata": {},
   "source": [
    "#### Assinging path to all the csv files"
   ]
  },
  {
   "cell_type": "code",
   "execution_count": 2,
   "metadata": {},
   "outputs": [],
   "source": [
    "PATH_ALL = './assignment5/'\n",
    "PATH_BEIJING = PATH_ALL + 'Beijing.csv'\n",
    "PATH_CHENGDU = PATH_ALL + 'Chengdu.csv'\n",
    "PATH_GUANGZHOU = PATH_ALL + 'Guangzhou.csv'\n",
    "PATH_SHANGHAI = PATH_ALL + 'Shanghai.csv'\n",
    "PATH_SHENYANG = PATH_ALL + 'Shenyang.csv'"
   ]
  },
  {
   "cell_type": "markdown",
   "metadata": {},
   "source": [
    "#### Read csv files into dataframes\n",
    "Each city has it's own dataframe, I added a 'loc' field which gives location name additionally for personal clarity."
   ]
  },
  {
   "cell_type": "code",
   "execution_count": 3,
   "metadata": {},
   "outputs": [],
   "source": [
    "df_beijing = pd.read_csv(PATH_BEIJING)\n",
    "df_beijing['loc'] = 'Beijing'\n",
    "\n",
    "df_chengdu = pd.read_csv(PATH_CHENGDU)\n",
    "df_chengdu['loc'] = 'Chengdu'\n",
    "\n",
    "df_guanghzou = pd.read_csv(PATH_GUANGZHOU)\n",
    "df_guanghzou['loc'] = 'Guangzhou'\n",
    "\n",
    "df_shanghai = pd.read_csv(PATH_SHANGHAI)\n",
    "df_shanghai['loc'] = 'Shanghai'\n",
    "\n",
    "df_shenyang = pd.read_csv(PATH_SHENYANG)\n",
    "df_shenyang['loc'] = 'Shenyang'"
   ]
  },
  {
   "cell_type": "markdown",
   "metadata": {},
   "source": [
    "## **1. Regression**\n",
    "### **1.1**"
   ]
  },
  {
   "cell_type": "markdown",
   "metadata": {},
   "source": [
    "#### **1.1 - 1**\n",
    "City with largest temperature range"
   ]
  },
  {
   "cell_type": "code",
   "execution_count": 4,
   "metadata": {},
   "outputs": [],
   "source": [
    "# function that returns temperature range\n",
    "\n",
    "def get_temp_range(high, low):\n",
    "     return abs(high - low)"
   ]
  },
  {
   "cell_type": "markdown",
   "metadata": {},
   "source": [
    "The code below derives the temperature range for each of the 5 cities"
   ]
  },
  {
   "cell_type": "code",
   "execution_count": 5,
   "metadata": {},
   "outputs": [
    {
     "name": "stdout",
     "output_type": "stream",
     "text": [
      "Beijing temp range:  61.0\n",
      "Chengdu temp range:  41.0\n",
      "Guangzhou temp range:  35.700001529999994\n",
      "Shanghai temp range:  46.0\n",
      "Shenyang temp range:  63.0\n"
     ]
    },
    {
     "data": {
      "text/plain": [
       "63.0"
      ]
     },
     "execution_count": 5,
     "metadata": {},
     "output_type": "execute_result"
    }
   ],
   "source": [
    "df_shanghai_high = df_shanghai.sort_values(by = 'TEMP', ascending = False)[:1]['TEMP'].values[0]\n",
    "df_shanghai_low = df_shanghai.sort_values(by = 'TEMP')[:1]['TEMP'].values[0]\n",
    "df_range_shanghai = get_temp_range(df_shanghai_high, df_shanghai_low)\n",
    "\n",
    "df_beijing_high = df_beijing.sort_values(by = 'TEMP', ascending = False)[:1]['TEMP'].values[0]\n",
    "df_beijing_low = df_beijing.sort_values(by = 'TEMP')[:1]['TEMP'].values[0]\n",
    "df_range_beijing = get_temp_range(df_beijing_high, df_beijing_low)\n",
    "\n",
    "df_chengdu_high = df_chengdu.sort_values(by = 'TEMP', ascending = False)[:1]['TEMP'].values[0]\n",
    "df_chengdu_low = df_chengdu.sort_values(by = 'TEMP')[:1]['TEMP'].values[0]\n",
    "df_range_chengdu = get_temp_range(df_chengdu_high, df_chengdu_low)\n",
    "\n",
    "df_guanghzou_high = df_guanghzou.sort_values(by = 'TEMP', ascending = False)[:1]['TEMP'].values[0]\n",
    "df_guanghzou_low = df_guanghzou.sort_values(by = 'TEMP')[:1]['TEMP'].values[0]\n",
    "df_range_guanghzou = get_temp_range(df_guanghzou_high, df_guanghzou_low)\n",
    "\n",
    "df_shenyang_high = df_shenyang.sort_values(by = 'TEMP', ascending = False)[:1]['TEMP'].values[0]\n",
    "df_shenyang_low = df_shenyang.sort_values(by = 'TEMP')[:1]['TEMP'].values[0]\n",
    "df_range_shenyang = get_temp_range(df_shenyang_high, df_shenyang_low)\n",
    "\n",
    "print(\"Beijing temp range: \", df_range_beijing)\n",
    "print(\"Chengdu temp range: \", df_range_chengdu)\n",
    "print(\"Guangzhou temp range: \", df_range_guanghzou)\n",
    "print(\"Shanghai temp range: \", df_range_shanghai)\n",
    "print(\"Shenyang temp range: \", df_range_shenyang)\n",
    "\n",
    "max(df_range_beijing, df_range_chengdu, df_range_guanghzou, df_range_shanghai, df_range_shenyang)"
   ]
  },
  {
   "cell_type": "markdown",
   "metadata": {},
   "source": [
    "It is observed that Shenyang has the largest temperature range."
   ]
  },
  {
   "cell_type": "code",
   "execution_count": 6,
   "metadata": {},
   "outputs": [
    {
     "name": "stdout",
     "output_type": "stream",
     "text": [
      "Largest Temperature Range: Shenyang  63.0\n"
     ]
    }
   ],
   "source": [
    "print(\"Largest Temperature Range: Shenyang \", df_range_shenyang)"
   ]
  },
  {
   "cell_type": "markdown",
   "metadata": {},
   "source": [
    "#### **1.1 - 2**"
   ]
  },
  {
   "cell_type": "markdown",
   "metadata": {},
   "source": [
    "The pollution is derived from the PM (particulate matter) information. The size of particulate is directly linked to pollution and thus health problems. So, I will compute the average PM for all cities based on which I will decide the most and least polluted cities."
   ]
  },
  {
   "cell_type": "code",
   "execution_count": 7,
   "metadata": {},
   "outputs": [],
   "source": [
    "def pm_avg(df_avg):\n",
    "    return df_avg.describe()['PM']['mean']"
   ]
  },
  {
   "cell_type": "code",
   "execution_count": 8,
   "metadata": {},
   "outputs": [],
   "source": [
    "df_beijing_pm_mean = pm_avg(df_beijing)\n",
    "df_chengdu_pm_mean = pm_avg(df_chengdu)\n",
    "df_guanghzou_pm_mean = pm_avg(df_guanghzou)\n",
    "df_shanghai_pm_mean = pm_avg(df_shanghai)\n",
    "df_shenyang_pm_mean = pm_avg(df_shenyang)"
   ]
  },
  {
   "cell_type": "code",
   "execution_count": 9,
   "metadata": {},
   "outputs": [
    {
     "name": "stdout",
     "output_type": "stream",
     "text": [
      "Beijing avg pm:  95.90424117331851\n",
      "Chengdu avg pm:  83.4076124567474\n",
      "Guanghzou avg pm:  50.80393793273986\n",
      "Shanghai avg pm:  52.91054378800787\n",
      "Shenyang avg pm:  75.8375\n"
     ]
    }
   ],
   "source": [
    "print(\"Beijing avg pm: \", df_beijing_pm_mean)\n",
    "print(\"Chengdu avg pm: \", df_chengdu_pm_mean)\n",
    "print(\"Guanghzou avg pm: \", df_guanghzou_pm_mean)\n",
    "print(\"Shanghai avg pm: \", df_shanghai_pm_mean)\n",
    "print(\"Shenyang avg pm: \", df_shenyang_pm_mean)"
   ]
  },
  {
   "cell_type": "code",
   "execution_count": 10,
   "metadata": {},
   "outputs": [
    {
     "data": {
      "text/plain": [
       "50.80393793273986"
      ]
     },
     "execution_count": 10,
     "metadata": {},
     "output_type": "execute_result"
    }
   ],
   "source": [
    "max(df_beijing_pm_mean, df_chengdu_pm_mean, df_guanghzou_pm_mean, df_shanghai_pm_mean, df_shenyang_pm_mean)\n",
    "min(df_beijing_pm_mean, df_chengdu_pm_mean, df_guanghzou_pm_mean, df_shanghai_pm_mean, df_shenyang_pm_mean)"
   ]
  },
  {
   "cell_type": "code",
   "execution_count": 11,
   "metadata": {},
   "outputs": [
    {
     "name": "stdout",
     "output_type": "stream",
     "text": [
      "Most polluted: Beijing 95.90424117331851\n",
      "Least polluted: Guanghzou 50.80393793273986\n"
     ]
    }
   ],
   "source": [
    "print(\"Most polluted: Beijing\", df_beijing_pm_mean)\n",
    "print(\"Least polluted: Guanghzou\", df_guanghzou_pm_mean)"
   ]
  },
  {
   "cell_type": "markdown",
   "metadata": {},
   "source": [
    "#### **1.1 - 3**"
   ]
  },
  {
   "cell_type": "markdown",
   "metadata": {},
   "source": [
    "Calculating average temperature per season for each city.\n",
    "\n",
    "1 - Spring\n",
    "\n",
    "2 - Summer\n",
    "\n",
    "3 - Fall\n",
    "\n",
    "4 - Winter"
   ]
  },
  {
   "cell_type": "markdown",
   "metadata": {},
   "source": [
    "Beijing average temperature for each season"
   ]
  },
  {
   "cell_type": "code",
   "execution_count": 12,
   "metadata": {},
   "outputs": [
    {
     "data": {
      "text/html": [
       "<div>\n",
       "<style scoped>\n",
       "    .dataframe tbody tr th:only-of-type {\n",
       "        vertical-align: middle;\n",
       "    }\n",
       "\n",
       "    .dataframe tbody tr th {\n",
       "        vertical-align: top;\n",
       "    }\n",
       "\n",
       "    .dataframe thead th {\n",
       "        text-align: right;\n",
       "    }\n",
       "</style>\n",
       "<table border=\"1\" class=\"dataframe\">\n",
       "  <thead>\n",
       "    <tr style=\"text-align: right;\">\n",
       "      <th></th>\n",
       "      <th>mean</th>\n",
       "    </tr>\n",
       "    <tr>\n",
       "      <th>season</th>\n",
       "      <th></th>\n",
       "    </tr>\n",
       "  </thead>\n",
       "  <tbody>\n",
       "    <tr>\n",
       "      <th>1</th>\n",
       "      <td>14.008455</td>\n",
       "    </tr>\n",
       "    <tr>\n",
       "      <th>2</th>\n",
       "      <td>25.852710</td>\n",
       "    </tr>\n",
       "    <tr>\n",
       "      <th>3</th>\n",
       "      <td>12.623598</td>\n",
       "    </tr>\n",
       "    <tr>\n",
       "      <th>4</th>\n",
       "      <td>-2.434568</td>\n",
       "    </tr>\n",
       "  </tbody>\n",
       "</table>\n",
       "</div>"
      ],
      "text/plain": [
       "             mean\n",
       "season           \n",
       "1       14.008455\n",
       "2       25.852710\n",
       "3       12.623598\n",
       "4       -2.434568"
      ]
     },
     "execution_count": 12,
     "metadata": {},
     "output_type": "execute_result"
    }
   ],
   "source": [
    "df_beijing.groupby('season').describe()['TEMP'][['mean']]"
   ]
  },
  {
   "cell_type": "markdown",
   "metadata": {},
   "source": [
    "Chengdu average temperature for each season"
   ]
  },
  {
   "cell_type": "code",
   "execution_count": 13,
   "metadata": {},
   "outputs": [
    {
     "data": {
      "text/html": [
       "<div>\n",
       "<style scoped>\n",
       "    .dataframe tbody tr th:only-of-type {\n",
       "        vertical-align: middle;\n",
       "    }\n",
       "\n",
       "    .dataframe tbody tr th {\n",
       "        vertical-align: top;\n",
       "    }\n",
       "\n",
       "    .dataframe thead th {\n",
       "        text-align: right;\n",
       "    }\n",
       "</style>\n",
       "<table border=\"1\" class=\"dataframe\">\n",
       "  <thead>\n",
       "    <tr style=\"text-align: right;\">\n",
       "      <th></th>\n",
       "      <th>mean</th>\n",
       "    </tr>\n",
       "    <tr>\n",
       "      <th>season</th>\n",
       "      <th></th>\n",
       "    </tr>\n",
       "  </thead>\n",
       "  <tbody>\n",
       "    <tr>\n",
       "      <th>1</th>\n",
       "      <td>18.258194</td>\n",
       "    </tr>\n",
       "    <tr>\n",
       "      <th>2</th>\n",
       "      <td>25.966364</td>\n",
       "    </tr>\n",
       "    <tr>\n",
       "      <th>3</th>\n",
       "      <td>18.356543</td>\n",
       "    </tr>\n",
       "    <tr>\n",
       "      <th>4</th>\n",
       "      <td>8.052331</td>\n",
       "    </tr>\n",
       "  </tbody>\n",
       "</table>\n",
       "</div>"
      ],
      "text/plain": [
       "             mean\n",
       "season           \n",
       "1       18.258194\n",
       "2       25.966364\n",
       "3       18.356543\n",
       "4        8.052331"
      ]
     },
     "execution_count": 13,
     "metadata": {},
     "output_type": "execute_result"
    }
   ],
   "source": [
    "df_chengdu.groupby('season').describe()['TEMP'][['mean']]"
   ]
  },
  {
   "cell_type": "markdown",
   "metadata": {},
   "source": [
    "Guanghzou average temperature for each season"
   ]
  },
  {
   "cell_type": "code",
   "execution_count": 14,
   "metadata": {},
   "outputs": [
    {
     "data": {
      "text/html": [
       "<div>\n",
       "<style scoped>\n",
       "    .dataframe tbody tr th:only-of-type {\n",
       "        vertical-align: middle;\n",
       "    }\n",
       "\n",
       "    .dataframe tbody tr th {\n",
       "        vertical-align: top;\n",
       "    }\n",
       "\n",
       "    .dataframe thead th {\n",
       "        text-align: right;\n",
       "    }\n",
       "</style>\n",
       "<table border=\"1\" class=\"dataframe\">\n",
       "  <thead>\n",
       "    <tr style=\"text-align: right;\">\n",
       "      <th></th>\n",
       "      <th>mean</th>\n",
       "    </tr>\n",
       "    <tr>\n",
       "      <th>season</th>\n",
       "      <th></th>\n",
       "    </tr>\n",
       "  </thead>\n",
       "  <tbody>\n",
       "    <tr>\n",
       "      <th>1.0</th>\n",
       "      <td>21.906167</td>\n",
       "    </tr>\n",
       "    <tr>\n",
       "      <th>2.0</th>\n",
       "      <td>28.203261</td>\n",
       "    </tr>\n",
       "    <tr>\n",
       "      <th>3.0</th>\n",
       "      <td>23.635798</td>\n",
       "    </tr>\n",
       "    <tr>\n",
       "      <th>4.0</th>\n",
       "      <td>14.099237</td>\n",
       "    </tr>\n",
       "  </tbody>\n",
       "</table>\n",
       "</div>"
      ],
      "text/plain": [
       "             mean\n",
       "season           \n",
       "1.0     21.906167\n",
       "2.0     28.203261\n",
       "3.0     23.635798\n",
       "4.0     14.099237"
      ]
     },
     "execution_count": 14,
     "metadata": {},
     "output_type": "execute_result"
    }
   ],
   "source": [
    "df_guanghzou.groupby('season').describe()['TEMP'][['mean']]"
   ]
  },
  {
   "cell_type": "markdown",
   "metadata": {},
   "source": [
    "Shanghai average temperature for each season"
   ]
  },
  {
   "cell_type": "code",
   "execution_count": 15,
   "metadata": {},
   "outputs": [
    {
     "data": {
      "text/html": [
       "<div>\n",
       "<style scoped>\n",
       "    .dataframe tbody tr th:only-of-type {\n",
       "        vertical-align: middle;\n",
       "    }\n",
       "\n",
       "    .dataframe tbody tr th {\n",
       "        vertical-align: top;\n",
       "    }\n",
       "\n",
       "    .dataframe thead th {\n",
       "        text-align: right;\n",
       "    }\n",
       "</style>\n",
       "<table border=\"1\" class=\"dataframe\">\n",
       "  <thead>\n",
       "    <tr style=\"text-align: right;\">\n",
       "      <th></th>\n",
       "      <th>mean</th>\n",
       "    </tr>\n",
       "    <tr>\n",
       "      <th>season</th>\n",
       "      <th></th>\n",
       "    </tr>\n",
       "  </thead>\n",
       "  <tbody>\n",
       "    <tr>\n",
       "      <th>1</th>\n",
       "      <td>15.982709</td>\n",
       "    </tr>\n",
       "    <tr>\n",
       "      <th>2</th>\n",
       "      <td>27.705798</td>\n",
       "    </tr>\n",
       "    <tr>\n",
       "      <th>3</th>\n",
       "      <td>19.765703</td>\n",
       "    </tr>\n",
       "    <tr>\n",
       "      <th>4</th>\n",
       "      <td>6.227308</td>\n",
       "    </tr>\n",
       "  </tbody>\n",
       "</table>\n",
       "</div>"
      ],
      "text/plain": [
       "             mean\n",
       "season           \n",
       "1       15.982709\n",
       "2       27.705798\n",
       "3       19.765703\n",
       "4        6.227308"
      ]
     },
     "execution_count": 15,
     "metadata": {},
     "output_type": "execute_result"
    }
   ],
   "source": [
    "df_shanghai.groupby('season').describe()['TEMP'][['mean']]"
   ]
  },
  {
   "cell_type": "markdown",
   "metadata": {},
   "source": [
    "Shenyang average temperature for each season"
   ]
  },
  {
   "cell_type": "code",
   "execution_count": 16,
   "metadata": {},
   "outputs": [
    {
     "data": {
      "text/html": [
       "<div>\n",
       "<style scoped>\n",
       "    .dataframe tbody tr th:only-of-type {\n",
       "        vertical-align: middle;\n",
       "    }\n",
       "\n",
       "    .dataframe tbody tr th {\n",
       "        vertical-align: top;\n",
       "    }\n",
       "\n",
       "    .dataframe thead th {\n",
       "        text-align: right;\n",
       "    }\n",
       "</style>\n",
       "<table border=\"1\" class=\"dataframe\">\n",
       "  <thead>\n",
       "    <tr style=\"text-align: right;\">\n",
       "      <th></th>\n",
       "      <th>mean</th>\n",
       "    </tr>\n",
       "    <tr>\n",
       "      <th>season</th>\n",
       "      <th></th>\n",
       "    </tr>\n",
       "  </thead>\n",
       "  <tbody>\n",
       "    <tr>\n",
       "      <th>1</th>\n",
       "      <td>9.456422</td>\n",
       "    </tr>\n",
       "    <tr>\n",
       "      <th>2</th>\n",
       "      <td>23.612061</td>\n",
       "    </tr>\n",
       "    <tr>\n",
       "      <th>3</th>\n",
       "      <td>9.809549</td>\n",
       "    </tr>\n",
       "    <tr>\n",
       "      <th>4</th>\n",
       "      <td>-9.199953</td>\n",
       "    </tr>\n",
       "  </tbody>\n",
       "</table>\n",
       "</div>"
      ],
      "text/plain": [
       "             mean\n",
       "season           \n",
       "1        9.456422\n",
       "2       23.612061\n",
       "3        9.809549\n",
       "4       -9.199953"
      ]
     },
     "execution_count": 16,
     "metadata": {},
     "output_type": "execute_result"
    }
   ],
   "source": [
    "df_shenyang.groupby('season').describe()['TEMP'][['mean']]"
   ]
  },
  {
   "cell_type": "markdown",
   "metadata": {},
   "source": [
    "#### **1.1 - 4**"
   ]
  },
  {
   "cell_type": "markdown",
   "metadata": {},
   "source": [
    "Hottest summer and coolest winter:\n",
    "\n",
    "I have grouped all city's temperatures by season to grab the summer and winter data. I then extracted the max temperature per summer and min temperature per winter."
   ]
  },
  {
   "cell_type": "code",
   "execution_count": 17,
   "metadata": {},
   "outputs": [],
   "source": [
    "df_beijing_seasons = df_beijing.groupby('season').describe()['TEMP']\n",
    "df_chengdu_seasons = df_chengdu.groupby('season').describe()['TEMP']\n",
    "df_guanghzou_seasons = df_guanghzou.groupby('season').describe()['TEMP']\n",
    "df_shanghai_seasons = df_shanghai.groupby('season').describe()['TEMP']\n",
    "df_shenyang_seasons = df_shenyang.groupby('season').describe()['TEMP']"
   ]
  },
  {
   "cell_type": "code",
   "execution_count": 18,
   "metadata": {},
   "outputs": [],
   "source": [
    "beijing_summer_max = df_beijing_seasons.iloc[[1]]['max'].values[0]\n",
    "beijing_winter_min = df_beijing_seasons.iloc[[3]]['min'].values[0]\n",
    "\n",
    "chengdu_summer_max = df_chengdu_seasons.iloc[[1]]['max'].values[0]\n",
    "chengdu_winter_min = df_chengdu_seasons.iloc[[3]]['min'].values[0]\n",
    "\n",
    "guanghzou_summer_max = df_guanghzou_seasons.iloc[[1]]['max'].values[0]\n",
    "guanghzou_winter_min = df_guanghzou_seasons.iloc[[3]]['min'].values[0]\n",
    "\n",
    "shanghai_summer_max = df_shanghai_seasons.iloc[[1]]['max'].values[0]\n",
    "shanghai_winter_min = df_shanghai_seasons.iloc[[3]]['min'].values[0]\n",
    "\n",
    "shenyang_summer_max = df_shenyang_seasons.iloc[[1]]['max'].values[0]\n",
    "shenyang_winter_min = df_shanghai_seasons.iloc[[3]]['min'].values[0]"
   ]
  },
  {
   "cell_type": "code",
   "execution_count": 19,
   "metadata": {},
   "outputs": [
    {
     "name": "stdout",
     "output_type": "stream",
     "text": [
      "Beijing hottest summer:  41.0\n",
      "Beijing coldest winter:  -19.0\n",
      "\n",
      "Chengdu hottest summer:  38.0\n",
      "Chengdu coldest winter:  -3.0\n",
      "\n",
      "Guanghzou hottest summer:  37.40000153\n",
      "Guanghzou coldest winter:  1.7\n",
      "\n",
      "Shanghai hottest summer:  41.0\n",
      "Shanghai coldest winter:  -5.0\n",
      "\n",
      "Shenyang hottest summer:  35.0\n",
      "Shenyang coldest winter:  -5.0\n"
     ]
    }
   ],
   "source": [
    "print(\"Beijing hottest summer: \", beijing_summer_max)\n",
    "print(\"Beijing coldest winter: \", beijing_winter_min)\n",
    "\n",
    "print(\"\\nChengdu hottest summer: \", chengdu_summer_max)\n",
    "print(\"Chengdu coldest winter: \", chengdu_winter_min)\n",
    "\n",
    "print(\"\\nGuanghzou hottest summer: \", guanghzou_summer_max)\n",
    "print(\"Guanghzou coldest winter: \", guanghzou_winter_min)\n",
    "\n",
    "print(\"\\nShanghai hottest summer: \", shanghai_summer_max)\n",
    "print(\"Shanghai coldest winter: \", shanghai_winter_min)\n",
    "\n",
    "print(\"\\nShenyang hottest summer: \", shenyang_summer_max)\n",
    "print(\"Shenyang coldest winter: \", shenyang_winter_min)"
   ]
  },
  {
   "cell_type": "markdown",
   "metadata": {},
   "source": [
    "#### Beijing and Shanghai have the hottest summer and Beijing has the coolest winter"
   ]
  },
  {
   "cell_type": "markdown",
   "metadata": {},
   "source": [
    "#### **1.1 - 5**"
   ]
  },
  {
   "cell_type": "markdown",
   "metadata": {},
   "source": [
    "Feature with largest amount of missing data:"
   ]
  },
  {
   "cell_type": "code",
   "execution_count": 20,
   "metadata": {},
   "outputs": [
    {
     "data": {
      "text/plain": [
       "year                 0\n",
       "month                0\n",
       "day                  0\n",
       "hour                 0\n",
       "season               1\n",
       "PM               95562\n",
       "DEWP              1240\n",
       "HUMI              1568\n",
       "PRES              1581\n",
       "TEMP              1238\n",
       "Iws               1243\n",
       "precipitation    20212\n",
       "Iprec            20212\n",
       "loc                  0\n",
       "dtype: int64"
      ]
     },
     "execution_count": 20,
     "metadata": {},
     "output_type": "execute_result"
    }
   ],
   "source": [
    "df_beijing.isnull().sum() + df_chengdu.isnull().sum() + df_guanghzou.isnull().sum() + df_shanghai.isnull().sum() + df_shenyang.isnull().sum()"
   ]
  },
  {
   "cell_type": "markdown",
   "metadata": {},
   "source": [
    "PM has the max number of missing values."
   ]
  }
 ],
 "metadata": {
  "kernelspec": {
   "display_name": "Python 3",
   "language": "python",
   "name": "python3"
  },
  "language_info": {
   "codemirror_mode": {
    "name": "ipython",
    "version": 3
   },
   "file_extension": ".py",
   "mimetype": "text/x-python",
   "name": "python",
   "nbconvert_exporter": "python",
   "pygments_lexer": "ipython3",
   "version": "3.6.9"
  }
 },
 "nbformat": 4,
 "nbformat_minor": 4
}
