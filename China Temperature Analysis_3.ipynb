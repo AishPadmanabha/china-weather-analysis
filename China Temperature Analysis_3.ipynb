{
 "cells": [
  {
   "cell_type": "markdown",
   "metadata": {},
   "source": [
    "#### Importing dependencies"
   ]
  },
  {
   "cell_type": "code",
   "execution_count": 10,
   "metadata": {},
   "outputs": [],
   "source": [
    "from sklearn.model_selection import train_test_split\n",
    "from sklearn.linear_model import LinearRegression\n",
    "from sklearn.metrics import r2_score\n",
    "import pandas as pd\n",
    "import numpy as np\n",
    "import matplotlib.pyplot as plt\n",
    "pd.set_option('display.max_rows', 200)\n",
    "pd.set_option('display.max_columns', 100)"
   ]
  },
  {
   "cell_type": "markdown",
   "metadata": {},
   "source": [
    "#### Assinging path to all the csv files"
   ]
  },
  {
   "cell_type": "code",
   "execution_count": 2,
   "metadata": {},
   "outputs": [],
   "source": [
    "PATH_ALL = './assignment5/'\n",
    "PATH_BEIJING = PATH_ALL + 'Beijing.csv'\n",
    "PATH_CHENGDU = PATH_ALL + 'Chengdu.csv'\n",
    "PATH_GUANGZHOU = PATH_ALL + 'Guangzhou.csv'\n",
    "PATH_SHANGHAI = PATH_ALL + 'Shanghai.csv'\n",
    "PATH_SHENYANG = PATH_ALL + 'Shenyang.csv'"
   ]
  },
  {
   "cell_type": "markdown",
   "metadata": {},
   "source": [
    "#### Read csv files into dataframes"
   ]
  },
  {
   "cell_type": "code",
   "execution_count": 4,
   "metadata": {},
   "outputs": [],
   "source": [
    "df_beijing = pd.read_csv(PATH_BEIJING)\n",
    "df_chengdu = pd.read_csv(PATH_CHENGDU)\n",
    "df_guanghzou = pd.read_csv(PATH_GUANGZHOU)\n",
    "df_shanghai = pd.read_csv(PATH_SHANGHAI)\n",
    "df_shenyang = pd.read_csv(PATH_SHENYANG)"
   ]
  },
  {
   "cell_type": "markdown",
   "metadata": {},
   "source": [
    "#### Drop all NaN/missing values in each city's dataframe"
   ]
  },
  {
   "cell_type": "code",
   "execution_count": 22,
   "metadata": {},
   "outputs": [],
   "source": [
    "df_beijing = df_beijing.dropna()\n",
    "df_chengdu = df_chengdu.dropna()\n",
    "df_guanghzou = df_guanghzou.dropna()\n",
    "df_shanghai = df_shanghai.dropna()\n",
    "df_shenyang = df_shenyang.dropna()"
   ]
  },
  {
   "cell_type": "markdown",
   "metadata": {},
   "source": [
    "#### Treat the column PM as our predictive objective"
   ]
  },
  {
   "cell_type": "code",
   "execution_count": 23,
   "metadata": {},
   "outputs": [],
   "source": [
    "y_beijing = df_beijing['PM']\n",
    "y_chendgu = df_chengdu['PM']\n",
    "y_guanghzou = df_guanghzou['PM']\n",
    "y_shanghai = df_shanghai['PM']\n",
    "y_shenyang = df_shenyang['PM']"
   ]
  },
  {
   "cell_type": "markdown",
   "metadata": {},
   "source": [
    "#### All other columns will be used as features when training our model"
   ]
  },
  {
   "cell_type": "code",
   "execution_count": 24,
   "metadata": {},
   "outputs": [],
   "source": [
    "X_beijing = df_beijing.drop(['PM'], axis=1)\n",
    "X_chengdu = df_chengdu.drop(['PM'], axis=1)\n",
    "X_guanghzou = df_guanghzou.drop(['PM'], axis=1)\n",
    "X_shanghai = df_shanghai.drop(['PM'], axis=1)\n",
    "X_shenyang = df_shenyang.drop(['PM'], axis=1)"
   ]
  },
  {
   "cell_type": "markdown",
   "metadata": {},
   "source": [
    "lr: logistic regression model\n",
    "\n",
    "Each city's data is split using scikit learn's train_test_split() method and (70% train and rest is test). This data is then trained using the fit() method. Finally, the r2 value (coefficient of determination) is calcuated and printed out."
   ]
  },
  {
   "cell_type": "code",
   "execution_count": 34,
   "metadata": {},
   "outputs": [
    {
     "name": "stdout",
     "output_type": "stream",
     "text": [
      "Coefficient of determination for Beijing: 0.27\n",
      "Coefficient of determination for Chengdu: 0.27\n",
      "Coefficient of determination for Ganghzou: 0.14\n",
      "Coefficient of determination for Shanghai: 0.17\n",
      "Coefficient of determination for Shenyan: 0.22\n"
     ]
    }
   ],
   "source": [
    "lr = LinearRegression()\n",
    "\n",
    "beijing_X_train, beijing_X_test, beijing_y_train, beijing_y_test = train_test_split(X_beijing, y_beijing, test_size=0.3, random_state=42)\n",
    "lr.fit(beijing_X_train, beijing_y_train)\n",
    "beijing_y_pred = lr.predict(beijing_X_test)\n",
    "print('Coefficient of determination for Beijing: %.2f' % r2_score(beijing_y_test, beijing_y_pred))\n",
    "\n",
    "chengdu_X_train, chengdu_X_test, chengdu_y_train, chengdu_y_test = train_test_split(X_chengdu, y_chendgu, test_size=0.3, random_state=42)\n",
    "lr.fit(chengdu_X_train, chengdu_y_train)\n",
    "chengdu_y_pred = lr.predict(chengdu_X_test)\n",
    "print('Coefficient of determination for Chengdu: %.2f' % r2_score(chengdu_y_test, chengdu_y_pred))\n",
    "\n",
    "ganghzou_X_train, gangzhou_X_test, gangzhou_y_train, gangzhou_y_test = train_test_split(X_guanghzou, y_guanghzou, test_size=0.3, random_state=42)\n",
    "lr.fit(ganghzou_X_train, gangzhou_y_train)\n",
    "gangzhou_y_pred = lr.predict(gangzhou_X_test)\n",
    "print('Coefficient of determination for Ganghzou: %.2f' % r2_score(gangzhou_y_test, gangzhou_y_pred))\n",
    "\n",
    "shanghai_X_train, shanghai_X_test, shanghai_y_train, shanghai_y_test = train_test_split(X_shanghai, y_shanghai, test_size=0.3, random_state=42)\n",
    "lr.fit(shanghai_X_train, shanghai_y_train)\n",
    "shanghai_y_pred = lr.predict(shanghai_X_test)\n",
    "print('Coefficient of determination for Shanghai: %.2f' % r2_score(shanghai_y_test, shanghai_y_pred))\n",
    "\n",
    "shenyan_X_train, shenyan_X_test, shenyan_y_train, shenyan_y_test = train_test_split(X_shenyang, y_shenyang, test_size=0.3, random_state=42)\n",
    "lr.fit(shenyan_X_train, shenyan_y_train)\n",
    "shenyan_y_pred = lr.predict(shenyan_X_test)\n",
    "print('Coefficient of determination for Shenyan: %.2f' % r2_score(shenyan_y_test, shenyan_y_pred))"
   ]
  },
  {
   "cell_type": "markdown",
   "metadata": {},
   "source": [
    "#### **1.3 - 2**"
   ]
  },
  {
   "cell_type": "markdown",
   "metadata": {},
   "source": [
    "I trained using Shenyang dataset and tested using Shanghai dataset."
   ]
  },
  {
   "cell_type": "code",
   "execution_count": 73,
   "metadata": {},
   "outputs": [
    {
     "name": "stdout",
     "output_type": "stream",
     "text": [
      "Coefficient of determination for Shenyan: -29681.43\n"
     ]
    }
   ],
   "source": [
    "shanghai_X_train, shanghai_X_test, shanghai_y_train, shanghai_y_test = train_test_split(X_shanghai, y_shanghai, test_size=0.3, random_state=42)\n",
    "shenyan_X_train, shenyan_X_test, shenyan_y_train, shenyan_y_test = train_test_split(X_shenyang, y_shenyang, test_size=0.3, random_state=42)\n",
    "\n",
    "lr.fit(shenyan_X_train, shenyan_y_train)\n",
    "shenyan_y_pred = lr.predict(shanghai_X_test)\n",
    "print('Coefficient of determination for Shenyan: %.2f' % r2_score(shanghai_y_test, shenyan_y_pred))"
   ]
  },
  {
   "cell_type": "markdown",
   "metadata": {},
   "source": [
    "A negative value as r2 denotes that something is terribly wrong/skewed."
   ]
  },
  {
   "cell_type": "markdown",
   "metadata": {},
   "source": [
    "#### **1.3 - 3**"
   ]
  },
  {
   "cell_type": "markdown",
   "metadata": {},
   "source": [
    "I predicted the Lws (cumulative wind speed) which showed best performance. According to my understanding, for a time series dataset, if the r2 value is close to one, it's not a good sign at all. Based on this understanding, predicting Lws gave me the best performance (lowest r2) thus making it easier to predict."
   ]
  },
  {
   "cell_type": "code",
   "execution_count": 74,
   "metadata": {},
   "outputs": [
    {
     "name": "stdout",
     "output_type": "stream",
     "text": [
      "Coefficient of determination for Shanghai: 0.06\n"
     ]
    }
   ],
   "source": [
    "y_shanghai = df_shanghai['Iws']\n",
    "X_shanghai = df_shanghai.drop(['Iws'], axis=1)\n",
    "shanghai_X_train, shanghai_X_test, shanghai_y_train, shanghai_y_test = train_test_split(X_shanghai, y_shanghai, test_size=0.3, random_state=42)\n",
    "lr.fit(shanghai_X_train, shanghai_y_train)\n",
    "shanghai_y_pred = lr.predict(shanghai_X_test)\n",
    "print('Coefficient of determination for Shanghai: %.2f' % r2_score(shanghai_y_test, shanghai_y_pred))"
   ]
  }
 ],
 "metadata": {
  "kernelspec": {
   "display_name": "Python 3",
   "language": "python",
   "name": "python3"
  },
  "language_info": {
   "codemirror_mode": {
    "name": "ipython",
    "version": 3
   },
   "file_extension": ".py",
   "mimetype": "text/x-python",
   "name": "python",
   "nbconvert_exporter": "python",
   "pygments_lexer": "ipython3",
   "version": "3.6.9"
  }
 },
 "nbformat": 4,
 "nbformat_minor": 4
}
